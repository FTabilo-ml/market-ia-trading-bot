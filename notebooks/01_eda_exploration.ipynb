{
 "cells": [
  {
   "cell_type": "markdown",
   "metadata": {},
   "source": [
    "# Exploración de Datos"
   ]
  },
  {
   "cell_type": "code",
   "execution_count": 3,
   "metadata": {},
   "outputs": [],
   "source": [
    "import sys\n",
    "import pathlib\n",
    "\n",
    "# Agrega la raíz del proyecto a sys.path\n",
    "sys.path.append(str(pathlib.Path().resolve().parent))\n"
   ]
  },
  {
   "cell_type": "code",
   "execution_count": 16,
   "metadata": {},
   "outputs": [
    {
     "name": "stdout",
     "output_type": "stream",
     "text": [
      "            net_buy  buy_count  sell_count  amount_net\n",
      "Date                                                  \n",
      "2020-03-19      0.0        0.0         0.0         NaN\n",
      "2020-03-20      1.0        1.0         0.0     15001.0\n",
      "2020-03-23      0.0        0.0         0.0         NaN\n",
      "2020-03-24      1.0        1.0         0.0     15001.0\n",
      "2020-03-25      0.0        0.0         0.0         NaN\n",
      "2020-03-26      0.0        0.0         0.0         NaN\n",
      "2020-03-27      0.0        0.0         0.0         NaN\n",
      "2020-03-30      0.0        0.0         0.0         NaN\n",
      "2020-03-31      0.0        0.0         0.0         NaN\n",
      "2020-04-01      0.0        0.0         0.0         NaN\n"
     ]
    }
   ],
   "source": [
    "import pandas as pd\n",
    "df = pd.read_parquet(\"C:/Users/felip/market-ia-trading-bot/data/processed/AAPL.parquet\", engine=\"fastparquet\")\n",
    "print(df[[\"net_buy\",\"buy_count\",\"sell_count\",\"amount_net\"]].tail(10))\n"
   ]
  },
  {
   "cell_type": "code",
   "execution_count": 9,
   "metadata": {},
   "outputs": [
    {
     "name": "stdout",
     "output_type": "stream",
     "text": [
      "Working dir: c:\\Users\\felip\\market-ia-trading-bot\\notebooks\n"
     ]
    }
   ],
   "source": [
    "import os\n",
    "print(\"Working dir:\", os.getcwd())\n"
   ]
  },
  {
   "cell_type": "code",
   "execution_count": 12,
   "metadata": {},
   "outputs": [
    {
     "data": {
      "text/plain": [
       "['SimFinId',\n",
       " 'Currency_x',\n",
       " 'Fiscal Year',\n",
       " 'Fiscal Period_x',\n",
       " 'Publish Date_x',\n",
       " 'Restated Date_x',\n",
       " 'Shares (Basic)_x',\n",
       " 'Shares (Diluted)_x',\n",
       " 'Revenue',\n",
       " 'Cost of Revenue',\n",
       " 'Gross Profit',\n",
       " 'Operating Expenses',\n",
       " 'Selling, General & Administrative',\n",
       " 'Research & Development',\n",
       " 'Depreciation & Amortization_x',\n",
       " 'Operating Income (Loss)',\n",
       " 'Non-Operating Income (Loss)',\n",
       " 'Interest Expense, Net',\n",
       " 'Pretax Income (Loss), Adj.',\n",
       " 'Abnormal Gains (Losses)',\n",
       " 'Pretax Income (Loss)',\n",
       " 'Income Tax (Expense) Benefit, Net',\n",
       " 'Income (Loss) from Continuing Operations',\n",
       " 'Net Extraordinary Gains (Losses)',\n",
       " 'Net Income',\n",
       " 'Net Income (Common)',\n",
       " 'Currency_y',\n",
       " 'Fiscal Period_y',\n",
       " 'Publish Date_y',\n",
       " 'Restated Date_y',\n",
       " 'Shares (Basic)_y',\n",
       " 'Shares (Diluted)_y',\n",
       " 'Cash, Cash Equivalents & Short Term Investments',\n",
       " 'Accounts & Notes Receivable',\n",
       " 'Inventories',\n",
       " 'Total Current Assets',\n",
       " 'Property, Plant & Equipment, Net',\n",
       " 'Long Term Investments & Receivables',\n",
       " 'Other Long Term Assets',\n",
       " 'Total Noncurrent Assets',\n",
       " 'Total Assets',\n",
       " 'Payables & Accruals',\n",
       " 'Short Term Debt',\n",
       " 'Total Current Liabilities',\n",
       " 'Long Term Debt',\n",
       " 'Total Noncurrent Liabilities',\n",
       " 'Total Liabilities',\n",
       " 'Share Capital & Additional Paid-In Capital',\n",
       " 'Treasury Stock',\n",
       " 'Retained Earnings',\n",
       " 'Total Equity',\n",
       " 'Total Liabilities & Equity',\n",
       " 'Currency',\n",
       " 'Fiscal Period',\n",
       " 'Publish Date',\n",
       " 'Restated Date',\n",
       " 'Shares (Basic)',\n",
       " 'Shares (Diluted)',\n",
       " 'Net Income/Starting Line',\n",
       " 'Depreciation & Amortization_y',\n",
       " 'Non-Cash Items',\n",
       " 'Change in Working Capital',\n",
       " 'Change in Accounts Receivable',\n",
       " 'Change in Inventories',\n",
       " 'Change in Accounts Payable',\n",
       " 'Change in Other',\n",
       " 'Net Cash from Operating Activities',\n",
       " 'Change in Fixed Assets & Intangibles',\n",
       " 'Net Change in Long Term Investment',\n",
       " 'Net Cash from Acquisitions & Divestitures',\n",
       " 'Net Cash from Investing Activities',\n",
       " 'Dividends Paid',\n",
       " 'Cash from (Repayment of) Debt',\n",
       " 'Cash from (Repurchase of) Equity',\n",
       " 'Net Cash from Financing Activities',\n",
       " 'Net Change in Cash']"
      ]
     },
     "execution_count": 12,
     "metadata": {},
     "output_type": "execute_result"
    }
   ],
   "source": [
    "df.columns.tolist()\n"
   ]
  },
  {
   "cell_type": "code",
   "execution_count": 1,
   "metadata": {},
   "outputs": [
    {
     "name": "stdout",
     "output_type": "stream",
     "text": [
      "Index(['Open', 'High', 'Low', 'Close', 'Adj Close', 'Volume', 'volume_adi',\n",
      "       'volume_obv', 'volume_cmf', 'volume_fi', 'volume_em', 'volume_sma_em',\n",
      "       'volume_vpt', 'volume_vwap', 'volume_mfi', 'volume_nvi',\n",
      "       'volatility_bbm', 'volatility_bbh', 'volatility_bbl', 'volatility_bbw'],\n",
      "      dtype='object')\n",
      "            daily_return  net_buy  sentiment_score\n",
      "Date                                              \n",
      "2020-03-26      0.052623      0.0              0.0\n",
      "2020-03-27     -0.041402      0.0              0.0\n",
      "2020-03-30      0.028538      0.0              0.0\n",
      "2020-03-31     -0.002041      0.0              0.0\n",
      "2020-04-01     -0.052617      0.0              0.0\n",
      "1980-12-12 00:00:00 2020-04-01 00:00:00 9909\n"
     ]
    }
   ],
   "source": [
    "import pandas as pd\n",
    "df = pd.read_parquet(\"C:/Users/felip/market-ia-trading-bot/data/processed/AAPL.parquet\", engine=\"fastparquet\")\n",
    "print(df.columns[:20])                    # mira qué columnas hay\n",
    "print(df[[\"daily_return\",\"net_buy\",\"sentiment_score\"]].tail(5))\n",
    "print(df.index.min(), df.index.max(), len(df))\n"
   ]
  }
 ],
 "metadata": {
  "kernelspec": {
   "display_name": "market-ia-trading-bot",
   "language": "python",
   "name": "python3"
  },
  "language_info": {
   "codemirror_mode": {
    "name": "ipython",
    "version": 3
   },
   "file_extension": ".py",
   "mimetype": "text/x-python",
   "name": "python",
   "nbconvert_exporter": "python",
   "pygments_lexer": "ipython3",
   "version": "3.11.13"
  }
 },
 "nbformat": 4,
 "nbformat_minor": 2
}
